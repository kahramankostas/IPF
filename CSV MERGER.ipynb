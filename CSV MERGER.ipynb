{
 "cells": [
  {
   "cell_type": "code",
   "execution_count": 6,
   "metadata": {},
   "outputs": [],
   "source": [
    "import warnings\n",
    "warnings.filterwarnings(\"ignore\")\n",
    "import os\n",
    "import pandas as pd\n",
    "import problexity as px\n",
    "from tqdm import tqdm\n",
    "from sklearn.tree import DecisionTreeClassifier\n",
    "import sklearn\n",
    "import numpy as np\n",
    "import random\n",
    "import time"
   ]
  },
  {
   "cell_type": "code",
   "execution_count": null,
   "metadata": {},
   "outputs": [],
   "source": []
  },
  {
   "cell_type": "code",
   "execution_count": 7,
   "metadata": {},
   "outputs": [],
   "source": [
    "def folder(f_name): #this function creates a folder named \"attacks\" in the program directory.\n",
    "    try:\n",
    "        if not os.path.exists(f_name):\n",
    "            os.makedirs(f_name)\n",
    "    except OSError:\n",
    "        print (\"The folder could not be created!\")\n",
    "        \n",
    "folder(\"CV\")"
   ]
  },
  {
   "cell_type": "code",
   "execution_count": 8,
   "metadata": {},
   "outputs": [
    {
     "data": {
      "text/plain": [
       "['./SM\\\\DoS-SYN-1.csv',\n",
       " './SM\\\\DoS-SYN-2.csv',\n",
       " './SM\\\\MB-ACK-1.csv',\n",
       " './SM\\\\MB-ACK-2.csv',\n",
       " './SM\\\\MB-BF-1.csv',\n",
       " './SM\\\\MB-BF-2.csv',\n",
       " './SM\\\\MB-HDis-1.csv',\n",
       " './SM\\\\MB-HDis-2.csv',\n",
       " './SM\\\\MB-HTTP-1.csv',\n",
       " './SM\\\\MB-HTTP-2.csv',\n",
       " './SM\\\\MB-UDP-1.csv',\n",
       " './SM\\\\MB-UDP-2.csv',\n",
       " './SM\\\\MitM-ARP-1.csv',\n",
       " './SM\\\\MitM-ARP-2.csv',\n",
       " './SM\\\\Scan-HDis-1.csv',\n",
       " './SM\\\\Scan-HDis-2.csv',\n",
       " './SM\\\\Scan-OS-1.csv',\n",
       " './SM\\\\Scan-OS-2.csv',\n",
       " './SM\\\\Scan-Port-1.csv',\n",
       " './SM\\\\Scan-Port-2.csv',\n",
       " './SM\\\\SPScan-Port-1.csv',\n",
       " './SM\\\\SPScan-Port-2.csv']"
      ]
     },
     "execution_count": 8,
     "metadata": {},
     "output_type": "execute_result"
    }
   ],
   "source": [
    "def find_the_way(path,file_format):\n",
    "    files_add = []\n",
    "    # r=root, d=directories, f = files\n",
    "    for r, d, f in os.walk(path):\n",
    "        for file in f:\n",
    "            if file_format in file:\n",
    "                files_add.append(os.path.join(r, file))  \n",
    "    return files_add\n",
    "name_list=find_the_way('./SM','.csv')\n",
    "name_list"
   ]
  },
  {
   "cell_type": "code",
   "execution_count": 9,
   "metadata": {},
   "outputs": [
    {
     "name": "stdout",
     "output_type": "stream",
     "text": [
      "DoS-SYN\n",
      "MB-ACK\n",
      "MB-BF\n",
      "MB-HDis\n",
      "MB-HTTP\n",
      "MB-UDP\n",
      "MitM-ARP\n",
      "Scan-HDis\n",
      "Scan-OS\n",
      "Scan-Port\n",
      "SPScan-Port\n"
     ]
    }
   ],
   "source": [
    "unique=[]\n",
    "for i in name_list:\n",
    "    temp=i[5:-6]\n",
    "    if temp not in unique:\n",
    "        unique.append(temp)\n",
    "        print(temp)"
   ]
  },
  {
   "cell_type": "code",
   "execution_count": 10,
   "metadata": {},
   "outputs": [
    {
     "name": "stdout",
     "output_type": "stream",
     "text": [
      "name and shape of dataframe : ./SM\\DoS-SYN-1.csv (20000, 189)\n",
      "name and shape of dataframe : ./SM\\DoS-SYN-2.csv (20000, 189)\n",
      "\n",
      "\n",
      "\n",
      "name and shape of dataframe : ./CV/DoS-SYN.csv (40000, 189)\n",
      "name and shape of dataframe : ./SM\\MB-ACK-1.csv (20000, 189)\n",
      "name and shape of dataframe : ./SM\\MB-ACK-2.csv (20000, 189)\n",
      "\n",
      "\n",
      "\n",
      "name and shape of dataframe : ./CV/MB-ACK.csv (40000, 189)\n",
      "name and shape of dataframe : ./SM\\MB-BF-1.csv (10176, 189)\n",
      "name and shape of dataframe : ./SM\\MB-BF-2.csv (10177, 189)\n",
      "\n",
      "\n",
      "\n",
      "name and shape of dataframe : ./CV/MB-BF.csv (20353, 189)\n",
      "name and shape of dataframe : ./SM\\MB-HDis-1.csv (10113, 189)\n",
      "name and shape of dataframe : ./SM\\MB-HDis-2.csv (10101, 189)\n",
      "\n",
      "\n",
      "\n",
      "name and shape of dataframe : ./CV/MB-HDis.csv (20214, 189)\n",
      "name and shape of dataframe : ./SM\\MB-HTTP-1.csv (13764, 189)\n",
      "name and shape of dataframe : ./SM\\MB-HTTP-2.csv (20000, 189)\n",
      "\n",
      "\n",
      "\n",
      "name and shape of dataframe : ./CV/MB-HTTP.csv (33764, 189)\n",
      "name and shape of dataframe : ./SM\\MB-UDP-1.csv (20000, 189)\n",
      "name and shape of dataframe : ./SM\\MB-UDP-2.csv (20000, 189)\n",
      "\n",
      "\n",
      "\n",
      "name and shape of dataframe : ./CV/MB-UDP.csv (40000, 189)\n",
      "name and shape of dataframe : ./SM\\MitM-ARP-1.csv (20000, 189)\n",
      "name and shape of dataframe : ./SM\\MitM-ARP-2.csv (20000, 189)\n",
      "\n",
      "\n",
      "\n",
      "name and shape of dataframe : ./CV/MitM-ARP.csv (40000, 189)\n",
      "name and shape of dataframe : ./SM\\Scan-HDis-1.csv (10434, 189)\n",
      "name and shape of dataframe : ./SM\\Scan-HDis-2.csv (10332, 189)\n",
      "\n",
      "\n",
      "\n",
      "name and shape of dataframe : ./CV/Scan-HDis.csv (20766, 189)\n",
      "name and shape of dataframe : ./SM\\Scan-OS-1.csv (10475, 189)\n",
      "name and shape of dataframe : ./SM\\Scan-OS-2.csv (10640, 189)\n",
      "\n",
      "\n",
      "\n",
      "name and shape of dataframe : ./CV/Scan-OS.csv (21115, 189)\n",
      "name and shape of dataframe : ./SM\\Scan-Port-1.csv (11056, 189)\n",
      "name and shape of dataframe : ./SM\\Scan-Port-2.csv (12369, 189)\n",
      "name and shape of dataframe : ./SM\\SPScan-Port-1.csv (11096, 189)\n",
      "name and shape of dataframe : ./SM\\SPScan-Port-2.csv (11077, 189)\n",
      "\n",
      "\n",
      "\n",
      "name and shape of dataframe : ./CV/Scan-Port.csv (45598, 189)\n",
      "name and shape of dataframe : ./SM\\SPScan-Port-1.csv (11096, 189)\n",
      "name and shape of dataframe : ./SM\\SPScan-Port-2.csv (11077, 189)\n",
      "\n",
      "\n",
      "\n",
      "name and shape of dataframe : ./CV/SPScan-Port.csv (22173, 189)\n"
     ]
    }
   ],
   "source": [
    "\n",
    "for i in unique:\n",
    "    name_list=find_the_way('./SM',i)\n",
    "    name=f\"./CV/{i}.csv\"\n",
    "\n",
    "    df=pd.read_csv(name_list[0])\n",
    "    col_names=list(df.columns)\n",
    "\n",
    "\n",
    "    empty = pd.DataFrame(columns=col_names)\n",
    "    empty.to_csv(name, mode=\"a\", index=False)#,header=False)\n",
    "\n",
    "    for iii in name_list:\n",
    "        df=pd.read_csv(iii)\n",
    "        print(\"name and shape of dataframe :\",iii,df.shape)\n",
    "        df.to_csv(name, mode=\"a\", index=False,header=False)\n",
    "\n",
    "\n",
    "    df=pd.read_csv(name)\n",
    "\n",
    "    print(\"\\n\\n\\nname and shape of dataframe :\",name,df.shape)"
   ]
  },
  {
   "cell_type": "code",
   "execution_count": null,
   "metadata": {},
   "outputs": [],
   "source": []
  }
 ],
 "metadata": {
  "kernelspec": {
   "display_name": "Python 3 (ipykernel)",
   "language": "python",
   "name": "python3"
  },
  "language_info": {
   "codemirror_mode": {
    "name": "ipython",
    "version": 3
   },
   "file_extension": ".py",
   "mimetype": "text/x-python",
   "name": "python",
   "nbconvert_exporter": "python",
   "pygments_lexer": "ipython3",
   "version": "3.10.8"
  }
 },
 "nbformat": 4,
 "nbformat_minor": 2
}
