{
 "cells": [
  {
   "cell_type": "code",
   "execution_count": 1,
   "metadata": {},
   "outputs": [],
   "source": [
    "import pandas as pd\n",
    "import zipfile\n",
    "import os\n",
    "import time\n",
    "from tqdm import tqdm\n",
    "import shutil\n",
    "import pandas as pd\n",
    "import warnings\n",
    "warnings.filterwarnings(\"ignore\")"
   ]
  },
  {
   "cell_type": "code",
   "execution_count": 2,
   "metadata": {},
   "outputs": [],
   "source": [
    "def folder(f_name): #this function creates a folder named \"attacks\" in the program directory.\n",
    "    try:\n",
    "        if not os.path.exists(f_name):\n",
    "            os.makedirs(f_name)\n",
    "    except OSError:\n",
    "        print (\"The folder could not be created!\")"
   ]
  },
  {
   "cell_type": "code",
   "execution_count": 3,
   "metadata": {},
   "outputs": [
    {
     "data": {
      "text/plain": [
       "['./pcaps\\\\dos-synflooding-1-dec.pcap',\n",
       " './pcaps\\\\dos-synflooding-2-dec.pcap',\n",
       " './pcaps\\\\dos-synflooding-3-dec.pcap',\n",
       " './pcaps\\\\dos-synflooding-4-dec.pcap',\n",
       " './pcaps\\\\dos-synflooding-5-dec.pcap',\n",
       " './pcaps\\\\dos-synflooding-6-dec.pcap',\n",
       " './pcaps\\\\mirai-ackflooding-1-dec.pcap',\n",
       " './pcaps\\\\mirai-ackflooding-2-dec.pcap',\n",
       " './pcaps\\\\mirai-ackflooding-3-dec.pcap',\n",
       " './pcaps\\\\mirai-ackflooding-4-dec.pcap',\n",
       " './pcaps\\\\mirai-hostbruteforce-1-dec.pcap',\n",
       " './pcaps\\\\mirai-hostbruteforce-2-dec.pcap',\n",
       " './pcaps\\\\mirai-hostbruteforce-3-dec.pcap',\n",
       " './pcaps\\\\mirai-hostbruteforce-4-dec.pcap',\n",
       " './pcaps\\\\mirai-hostbruteforce-5-dec.pcap',\n",
       " './pcaps\\\\mirai-httpflooding-1-dec.pcap',\n",
       " './pcaps\\\\mirai-httpflooding-2-dec.pcap',\n",
       " './pcaps\\\\mirai-httpflooding-3-dec.pcap',\n",
       " './pcaps\\\\mirai-httpflooding-4-dec.pcap',\n",
       " './pcaps\\\\mirai-udpflooding-1-dec.pcap',\n",
       " './pcaps\\\\mirai-udpflooding-2-dec.pcap',\n",
       " './pcaps\\\\mirai-udpflooding-3-dec.pcap',\n",
       " './pcaps\\\\mirai-udpflooding-4-dec.pcap',\n",
       " './pcaps\\\\Mirai.pcap',\n",
       " './pcaps\\\\mitm-arpspoofing-1-dec.pcap',\n",
       " './pcaps\\\\mitm-arpspoofing-2-dec.pcap',\n",
       " './pcaps\\\\mitm-arpspoofing-3-dec.pcap',\n",
       " './pcaps\\\\mitm-arpspoofing-4-dec.pcap',\n",
       " './pcaps\\\\mitm-arpspoofing-5-dec.pcap',\n",
       " './pcaps\\\\mitm-arpspoofing-6-dec.pcap',\n",
       " './pcaps\\\\scan-hostport-1-dec.pcap',\n",
       " './pcaps\\\\scan-hostport-2-dec.pcap',\n",
       " './pcaps\\\\scan-hostport-3-dec.pcap',\n",
       " './pcaps\\\\scan-hostport-4-dec.pcap',\n",
       " './pcaps\\\\scan-hostport-5-dec.pcap',\n",
       " './pcaps\\\\scan-hostport-6-dec.pcap',\n",
       " './pcaps\\\\scan-portos-1-dec.pcap',\n",
       " './pcaps\\\\scan-portos-2-dec.pcap',\n",
       " './pcaps\\\\scan-portos-3-dec.pcap',\n",
       " './pcaps\\\\scan-portos-4-dec.pcap',\n",
       " './pcaps\\\\scan-portos-5-dec.pcap',\n",
       " './pcaps\\\\scan-portos-6-dec.pcap',\n",
       " './pcaps\\\\Video Injection.pcap']"
      ]
     },
     "execution_count": 3,
     "metadata": {},
     "output_type": "execute_result"
    }
   ],
   "source": [
    "def find_the_way(path,file_format,con=\"\"):\n",
    "    files_add = []\n",
    "    # r=root, d=directories, f = files\n",
    "    for r, d, f in os.walk(path):\n",
    "        for file in f:\n",
    "            if file_format in file:\n",
    "                if con in file:\n",
    "                    files_add.append(os.path.join(r, file))  \n",
    "            \n",
    "    return files_add\n",
    "path=\"./\"\n",
    "files_add=find_the_way(path,'.pcap')\n",
    "files_add"
   ]
  },
  {
   "cell_type": "code",
   "execution_count": 4,
   "metadata": {},
   "outputs": [
    {
     "data": {
      "text/plain": [
       "43"
      ]
     },
     "execution_count": 4,
     "metadata": {},
     "output_type": "execute_result"
    }
   ],
   "source": [
    "len(files_add)"
   ]
  },
  {
   "cell_type": "markdown",
   "metadata": {
    "id": "xhtFBx88w82H"
   },
   "source": [
    "# PCAP2CSV"
   ]
  },
  {
   "cell_type": "code",
   "execution_count": 5,
   "metadata": {
    "executionInfo": {
     "elapsed": 54679,
     "status": "ok",
     "timestamp": 1618599130335,
     "user": {
      "displayName": "bozkır bilgesi",
      "photoUrl": "",
      "userId": "00518659040232779705"
     },
     "user_tz": -60
    },
    "id": "Rqb4fmeWw82I"
   },
   "outputs": [],
   "source": [
    "from scapy.all import*"
   ]
  },
  {
   "cell_type": "code",
   "execution_count": 6,
   "metadata": {},
   "outputs": [],
   "source": [
    "import math\n",
    "import pandas as pd\n",
    "import os\n",
    "import numpy as np"
   ]
  },
  {
   "cell_type": "code",
   "execution_count": 7,
   "metadata": {},
   "outputs": [],
   "source": [
    "def folder(f_name): #this function creates a folder.\n",
    "    try:\n",
    "        if not os.path.exists(f_name):\n",
    "            os.makedirs(f_name)\n",
    "    except OSError:\n",
    "        print (\"The folder could not be created!\")"
   ]
  },
  {
   "cell_type": "code",
   "execution_count": 8,
   "metadata": {},
   "outputs": [],
   "source": [
    "def port_class(port):\n",
    "    port_list=[0,53,67,68,80,123,443,1900,5353,49153]\n",
    "    if port in port_list:\n",
    "        return port_list.index(port)+1\n",
    "    elif 0 <= port <= 1023:\n",
    "        return 11\n",
    "    elif  1024 <= port <= 49151 :\n",
    "        return 12\n",
    "    elif 49152 <=port <= 65535 :\n",
    "        return 13\n",
    "    else:\n",
    "        return 0\n",
    "    \n",
    "    \n"
   ]
  },
  {
   "cell_type": "code",
   "execution_count": 9,
   "metadata": {
    "executionInfo": {
     "elapsed": 832,
     "status": "ok",
     "timestamp": 1618599170305,
     "user": {
      "displayName": "bozkır bilgesi",
      "photoUrl": "",
      "userId": "00518659040232779705"
     },
     "user_tz": -60
    },
    "id": "zqssqFuLw82R"
   },
   "outputs": [],
   "source": [
    "header=\"ts,pck_size,IP_id,ICMP_chksum,ICMP_id,TCP_seq,TCP_ack,TCP_chksum,UDP_chksum,DNS_id,BOOTP_xid,sport,dport,sport_class,dport_class,Label\\n\""
   ]
  },
  {
   "cell_type": "markdown",
   "metadata": {},
   "source": [
    "# Individual paket pased faetures"
   ]
  },
  {
   "cell_type": "code",
   "execution_count": 10,
   "metadata": {},
   "outputs": [],
   "source": [
    "def pcap_parser(oldname):\n",
    "    piece_size=50000\n",
    "    new_name=oldname.replace(\".pcap\",\"_smaller.pcap\")\n",
    "    command='C:/\\\"Program Files\\\"/Wireshark/editcap.exe -c '+str(piece_size)+\" \\\"\"+oldname+\"\\\" \"+new_name   \n",
    "    os.system(command)\n",
    "    parsed=find_the_way(\"./\",new_name[6:-5])\n",
    "    return parsed,new_name[6:-5]\n",
    "    "
   ]
  },
  {
   "cell_type": "code",
   "execution_count": 11,
   "metadata": {},
   "outputs": [],
   "source": [
    "def merged_csv(name,keyword):\n",
    "    for merger in [\"_FE.csv\",\"_WS.csv\"]:\n",
    "        merged_name=f\"{name[:-4]}{merger}\"\n",
    "        csv_files=find_the_way(\"./\",keyword,merger)\n",
    "        df=pd.read_csv(csv_files[0])\n",
    "        col_names=list(df.columns)\n",
    "\n",
    "        empty = pd.DataFrame(columns=col_names)\n",
    "        empty.to_csv(merged_name, mode=\"w\", index=False)#,header=False)\n",
    "\n",
    "\n",
    "        for j in csv_files:\n",
    "\n",
    "            df=pd.read_csv(j)\n",
    "            #print(\"name and shape of dataframe :\",i,df.shape)\n",
    "            df.to_csv(merged_name, mode=\"a\", index=False,header=False)\n",
    "\n",
    "\n",
    "            os.remove(j)\n",
    "            try:\n",
    "                os.remove(j.replace(\"_FE.csv\",\".pcap\"))\n",
    "            except:pass\n",
    "\n",
    "            #print(\"\\n\\n\\nname and shape of dataframe :\",name,df.shape)"
   ]
  },
  {
   "cell_type": "code",
   "execution_count": 12,
   "metadata": {
    "id": "A6BKuGebw82S"
   },
   "outputs": [
    {
     "name": "stdout",
     "output_type": "stream",
     "text": [
      "1/43-./pcaps\\dos-synflooding-1-dec.pcap\n"
     ]
    },
    {
     "name": "stderr",
     "output_type": "stream",
     "text": [
      "100%|██████████████████████████████████████████████████████████████████████████| 40788/40788 [00:05<00:00, 7527.93it/s]\n"
     ]
    },
    {
     "name": "stdout",
     "output_type": "stream",
     "text": [
      "2/43-./pcaps\\dos-synflooding-2-dec.pcap\n"
     ]
    },
    {
     "name": "stderr",
     "output_type": "stream",
     "text": [
      "100%|██████████████████████████████████████████████████████████████████████████| 39742/39742 [00:05<00:00, 7353.91it/s]\n"
     ]
    },
    {
     "name": "stdout",
     "output_type": "stream",
     "text": [
      "3/43-./pcaps\\dos-synflooding-3-dec.pcap\n"
     ]
    },
    {
     "name": "stderr",
     "output_type": "stream",
     "text": [
      "100%|██████████████████████████████████████████████████████████████████████████| 26334/26334 [00:03<00:00, 7135.15it/s]\n"
     ]
    },
    {
     "name": "stdout",
     "output_type": "stream",
     "text": [
      "4/43-./pcaps\\dos-synflooding-4-dec.pcap\n"
     ]
    },
    {
     "name": "stderr",
     "output_type": "stream",
     "text": [
      "100%|██████████████████████████████████████████████████████████████████████████| 10561/10561 [00:01<00:00, 7305.85it/s]\n"
     ]
    },
    {
     "name": "stdout",
     "output_type": "stream",
     "text": [
      "5/43-./pcaps\\dos-synflooding-5-dec.pcap\n"
     ]
    },
    {
     "name": "stderr",
     "output_type": "stream",
     "text": [
      "100%|██████████████████████████████████████████████████████████████████████████| 11366/11366 [00:01<00:00, 7171.29it/s]\n"
     ]
    },
    {
     "name": "stdout",
     "output_type": "stream",
     "text": [
      "6/43-./pcaps\\dos-synflooding-6-dec.pcap\n"
     ]
    },
    {
     "name": "stderr",
     "output_type": "stream",
     "text": [
      "100%|██████████████████████████████████████████████████████████████████████████| 12918/12918 [00:01<00:00, 7584.92it/s]\n"
     ]
    },
    {
     "name": "stdout",
     "output_type": "stream",
     "text": [
      "7/43-./pcaps\\mirai-ackflooding-1-dec.pcap\n"
     ]
    },
    {
     "name": "stderr",
     "output_type": "stream",
     "text": [
      "100%|██████████████████████████████████████████████████████████████████████████| 42594/42594 [00:06<00:00, 6993.11it/s]\n"
     ]
    },
    {
     "name": "stdout",
     "output_type": "stream",
     "text": [
      "8/43-./pcaps\\mirai-ackflooding-2-dec.pcap\n"
     ]
    },
    {
     "name": "stderr",
     "output_type": "stream",
     "text": [
      "100%|████████████████████████████████████████████████████████████████████████| 114137/114137 [00:13<00:00, 8294.67it/s]\n"
     ]
    },
    {
     "name": "stdout",
     "output_type": "stream",
     "text": [
      "9/43-./pcaps\\mirai-ackflooding-3-dec.pcap\n"
     ]
    },
    {
     "name": "stderr",
     "output_type": "stream",
     "text": [
      "100%|██████████████████████████████████████████████████████████████████████████| 42594/42594 [00:05<00:00, 8415.81it/s]\n"
     ]
    },
    {
     "name": "stdout",
     "output_type": "stream",
     "text": [
      "10/43-./pcaps\\mirai-ackflooding-4-dec.pcap\n"
     ]
    },
    {
     "name": "stderr",
     "output_type": "stream",
     "text": [
      "100%|████████████████████████████████████████████████████████████████████████| 114137/114137 [00:13<00:00, 8320.42it/s]\n"
     ]
    },
    {
     "name": "stdout",
     "output_type": "stream",
     "text": [
      "11/43-./pcaps\\mirai-hostbruteforce-1-dec.pcap\n"
     ]
    },
    {
     "name": "stderr",
     "output_type": "stream",
     "text": [
      "100%|████████████████████████████████████████████████████████████████████████| 135146/135146 [00:17<00:00, 7734.31it/s]\n"
     ]
    },
    {
     "name": "stdout",
     "output_type": "stream",
     "text": [
      "12/43-./pcaps\\mirai-hostbruteforce-2-dec.pcap\n"
     ]
    },
    {
     "name": "stderr",
     "output_type": "stream",
     "text": [
      "100%|██████████████████████████████████████████████████████████████████████████| 81307/81307 [00:10<00:00, 7473.62it/s]\n"
     ]
    },
    {
     "name": "stdout",
     "output_type": "stream",
     "text": [
      "13/43-./pcaps\\mirai-hostbruteforce-3-dec.pcap\n"
     ]
    },
    {
     "name": "stderr",
     "output_type": "stream",
     "text": [
      "100%|██████████████████████████████████████████████████████████████████████████| 93647/93647 [00:11<00:00, 7814.56it/s]\n"
     ]
    },
    {
     "name": "stdout",
     "output_type": "stream",
     "text": [
      "14/43-./pcaps\\mirai-hostbruteforce-4-dec.pcap\n"
     ]
    },
    {
     "name": "stderr",
     "output_type": "stream",
     "text": [
      "100%|██████████████████████████████████████████████████████████████████████████| 98691/98691 [00:13<00:00, 7191.14it/s]\n"
     ]
    },
    {
     "name": "stdout",
     "output_type": "stream",
     "text": [
      "15/43-./pcaps\\mirai-hostbruteforce-5-dec.pcap\n"
     ]
    },
    {
     "name": "stderr",
     "output_type": "stream",
     "text": [
      "100%|██████████████████████████████████████████████████████████████████████████| 44564/44564 [00:06<00:00, 7232.23it/s]\n"
     ]
    },
    {
     "name": "stdout",
     "output_type": "stream",
     "text": [
      "16/43-./pcaps\\mirai-httpflooding-1-dec.pcap\n"
     ]
    },
    {
     "name": "stderr",
     "output_type": "stream",
     "text": [
      "100%|██████████████████████████████████████████████████████████████████████████| 13764/13764 [00:01<00:00, 7228.09it/s]\n"
     ]
    },
    {
     "name": "stdout",
     "output_type": "stream",
     "text": [
      "17/43-./pcaps\\mirai-httpflooding-2-dec.pcap\n"
     ]
    },
    {
     "name": "stderr",
     "output_type": "stream",
     "text": [
      "100%|████████████████████████████████████████████████████████████████████████| 110383/110383 [00:13<00:00, 7906.73it/s]\n"
     ]
    },
    {
     "name": "stdout",
     "output_type": "stream",
     "text": [
      "18/43-./pcaps\\mirai-httpflooding-3-dec.pcap\n"
     ]
    },
    {
     "name": "stderr",
     "output_type": "stream",
     "text": [
      "100%|██████████████████████████████████████████████████████████████████████████| 13764/13764 [00:01<00:00, 7397.59it/s]\n"
     ]
    },
    {
     "name": "stdout",
     "output_type": "stream",
     "text": [
      "19/43-./pcaps\\mirai-httpflooding-4-dec.pcap\n"
     ]
    },
    {
     "name": "stderr",
     "output_type": "stream",
     "text": [
      "100%|████████████████████████████████████████████████████████████████████████| 110383/110383 [00:13<00:00, 8275.84it/s]\n"
     ]
    },
    {
     "name": "stdout",
     "output_type": "stream",
     "text": [
      "20/43-./pcaps\\mirai-udpflooding-1-dec.pcap\n"
     ]
    },
    {
     "name": "stderr",
     "output_type": "stream",
     "text": [
      "100%|████████████████████████████████████████████████████████████████████████| 417863/417863 [00:52<00:00, 7958.29it/s]\n"
     ]
    },
    {
     "name": "stdout",
     "output_type": "stream",
     "text": [
      "21/43-./pcaps\\mirai-udpflooding-2-dec.pcap\n"
     ]
    },
    {
     "name": "stderr",
     "output_type": "stream",
     "text": [
      "100%|████████████████████████████████████████████████████████████████████████| 175694/175694 [00:21<00:00, 8120.41it/s]\n"
     ]
    },
    {
     "name": "stdout",
     "output_type": "stream",
     "text": [
      "22/43-./pcaps\\mirai-udpflooding-3-dec.pcap\n"
     ]
    },
    {
     "name": "stderr",
     "output_type": "stream",
     "text": [
      "100%|████████████████████████████████████████████████████████████████████████| 417863/417863 [00:51<00:00, 8050.00it/s]\n"
     ]
    },
    {
     "name": "stdout",
     "output_type": "stream",
     "text": [
      "23/43-./pcaps\\mirai-udpflooding-4-dec.pcap\n"
     ]
    },
    {
     "name": "stderr",
     "output_type": "stream",
     "text": [
      "100%|████████████████████████████████████████████████████████████████████████| 175694/175694 [00:23<00:00, 7635.31it/s]\n"
     ]
    },
    {
     "name": "stdout",
     "output_type": "stream",
     "text": [
      "24/43-./pcaps\\Mirai.pcap\n"
     ]
    },
    {
     "name": "stderr",
     "output_type": "stream",
     "text": [
      "100%|███████████████████████████████████████████████████████████████████████| 764137/764137 [00:59<00:00, 12916.32it/s]\n"
     ]
    },
    {
     "name": "stdout",
     "output_type": "stream",
     "text": [
      "25/43-./pcaps\\mitm-arpspoofing-1-dec.pcap\n"
     ]
    },
    {
     "name": "stderr",
     "output_type": "stream",
     "text": [
      "100%|██████████████████████████████████████████████████████████████████████████| 65768/65768 [00:08<00:00, 7405.66it/s]\n"
     ]
    },
    {
     "name": "stdout",
     "output_type": "stream",
     "text": [
      "26/43-./pcaps\\mitm-arpspoofing-2-dec.pcap\n"
     ]
    },
    {
     "name": "stderr",
     "output_type": "stream",
     "text": [
      "100%|██████████████████████████████████████████████████████████████████████████| 33121/33121 [00:04<00:00, 7278.57it/s]\n"
     ]
    },
    {
     "name": "stdout",
     "output_type": "stream",
     "text": [
      "27/43-./pcaps\\mitm-arpspoofing-3-dec.pcap\n"
     ]
    },
    {
     "name": "stderr",
     "output_type": "stream",
     "text": [
      "100%|██████████████████████████████████████████████████████████████████████████| 34043/34043 [00:05<00:00, 6690.76it/s]\n"
     ]
    },
    {
     "name": "stdout",
     "output_type": "stream",
     "text": [
      "28/43-./pcaps\\mitm-arpspoofing-4-dec.pcap\n"
     ]
    },
    {
     "name": "stderr",
     "output_type": "stream",
     "text": [
      "100%|██████████████████████████████████████████████████████████████████████████| 19914/19914 [00:02<00:00, 6857.98it/s]\n"
     ]
    },
    {
     "name": "stdout",
     "output_type": "stream",
     "text": [
      "29/43-./pcaps\\mitm-arpspoofing-5-dec.pcap\n"
     ]
    },
    {
     "name": "stderr",
     "output_type": "stream",
     "text": [
      "100%|██████████████████████████████████████████████████████████████████████████| 20314/20314 [00:02<00:00, 7315.18it/s]\n"
     ]
    },
    {
     "name": "stdout",
     "output_type": "stream",
     "text": [
      "30/43-./pcaps\\mitm-arpspoofing-6-dec.pcap\n"
     ]
    },
    {
     "name": "stderr",
     "output_type": "stream",
     "text": [
      "100%|██████████████████████████████████████████████████████████████████████████| 21024/21024 [00:02<00:00, 7326.27it/s]\n"
     ]
    },
    {
     "name": "stdout",
     "output_type": "stream",
     "text": [
      "31/43-./pcaps\\scan-hostport-1-dec.pcap\n"
     ]
    },
    {
     "name": "stderr",
     "output_type": "stream",
     "text": [
      "100%|██████████████████████████████████████████████████████████████████████████| 29352/29352 [00:04<00:00, 7131.55it/s]\n"
     ]
    },
    {
     "name": "stdout",
     "output_type": "stream",
     "text": [
      "32/43-./pcaps\\scan-hostport-2-dec.pcap\n"
     ]
    },
    {
     "name": "stderr",
     "output_type": "stream",
     "text": [
      "100%|██████████████████████████████████████████████████████████████████████████| 37106/37106 [00:04<00:00, 7456.88it/s]\n"
     ]
    },
    {
     "name": "stdout",
     "output_type": "stream",
     "text": [
      "33/43-./pcaps\\scan-hostport-3-dec.pcap\n"
     ]
    },
    {
     "name": "stderr",
     "output_type": "stream",
     "text": [
      "100%|██████████████████████████████████████████████████████████████████████████| 13555/13555 [00:01<00:00, 7718.24it/s]\n"
     ]
    },
    {
     "name": "stdout",
     "output_type": "stream",
     "text": [
      "34/43-./pcaps\\scan-hostport-4-dec.pcap\n"
     ]
    },
    {
     "name": "stderr",
     "output_type": "stream",
     "text": [
      "100%|████████████████████████████████████████████████████████████████████████████| 7801/7801 [00:00<00:00, 8158.64it/s]\n"
     ]
    },
    {
     "name": "stdout",
     "output_type": "stream",
     "text": [
      "35/43-./pcaps\\scan-hostport-5-dec.pcap\n"
     ]
    },
    {
     "name": "stderr",
     "output_type": "stream",
     "text": [
      "100%|████████████████████████████████████████████████████████████████████████████| 4760/4760 [00:00<00:00, 8199.82it/s]\n"
     ]
    },
    {
     "name": "stdout",
     "output_type": "stream",
     "text": [
      "36/43-./pcaps\\scan-hostport-6-dec.pcap\n"
     ]
    },
    {
     "name": "stderr",
     "output_type": "stream",
     "text": [
      "100%|████████████████████████████████████████████████████████████████████████████| 6828/6828 [00:00<00:00, 7621.20it/s]\n"
     ]
    },
    {
     "name": "stdout",
     "output_type": "stream",
     "text": [
      "37/43-./pcaps\\scan-portos-1-dec.pcap\n"
     ]
    },
    {
     "name": "stderr",
     "output_type": "stream",
     "text": [
      " 99%|█████████████████████████████████████████████████████████████████████████▌| 72760/73235 [00:09<00:00, 7337.38it/s]\n"
     ]
    },
    {
     "ename": "IndexError",
     "evalue": "index 72760 is out of bounds for axis 0 with size 72760",
     "output_type": "error",
     "traceback": [
      "\u001b[1;31m---------------------------------------------------------------------------\u001b[0m",
      "\u001b[1;31mIndexError\u001b[0m                                Traceback (most recent call last)",
      "Cell \u001b[1;32mIn[12], line 80\u001b[0m\n\u001b[0;32m     78\u001b[0m line\u001b[38;5;241m=\u001b[39m\u001b[38;5;28mstr\u001b[39m(line)\u001b[38;5;241m.\u001b[39mreplace(\u001b[38;5;124m\"\u001b[39m\u001b[38;5;124mNone\u001b[39m\u001b[38;5;124m\"\u001b[39m,\u001b[38;5;124m\"\u001b[39m\u001b[38;5;124m0\u001b[39m\u001b[38;5;124m\"\u001b[39m)\n\u001b[0;32m     79\u001b[0m \u001b[38;5;28;01mif\u001b[39;00m label:\n\u001b[1;32m---> 80\u001b[0m     Label\u001b[38;5;241m=\u001b[39m\u001b[43mdf\u001b[49m\u001b[43m[\u001b[49m\u001b[43mlabel_count\u001b[49m\u001b[43m]\u001b[49m\n\u001b[0;32m     81\u001b[0m \u001b[38;5;28;01melse\u001b[39;00m:\n\u001b[0;32m     82\u001b[0m     Label\u001b[38;5;241m=\u001b[39m\u001b[38;5;124m\"\u001b[39m\u001b[38;5;124mNo_Label\u001b[39m\u001b[38;5;124m\"\u001b[39m\n",
      "\u001b[1;31mIndexError\u001b[0m: index 72760 is out of bounds for axis 0 with size 72760"
     ]
    }
   ],
   "source": [
    "outputfolder=\"FE\"\n",
    "folder(outputfolder)\n",
    "for sayac,i in enumerate (files_add):\n",
    "    print(f\"{sayac+1}/{len(files_add)}-{i}\")\n",
    "    try:\n",
    "        csv=i.replace(\".pcap\",\".csv\")\n",
    "        df=pd.read_csv(csv)\n",
    "        df=df[\"Label\"].values\n",
    "        label=True\n",
    "    except:\n",
    "        print(\"Predetermined tag not found\")\n",
    "        label=False\n",
    "    boyut=os.path.getsize(i)\n",
    "    label_count=0  \n",
    "    for isim in [i]:\n",
    "        filename=isim.replace(\".pcap\",\"_FE.csv\")\n",
    "        ths = open(filename, \"w\")\n",
    "        ths.write(header)  \n",
    "        pkt = rdpcap(isim)\n",
    "        for j in tqdm(pkt):\n",
    "            ts=float(j.time)\n",
    "            try:pck_size=j.len\n",
    "            except:pck_size=0\n",
    "            if j.haslayer(IP):\n",
    "                IP_id=j[IP].id\n",
    "                IP_chksum=j[IP].chksum\n",
    "            else:\n",
    "                IP_id=0\n",
    "                IP_chksum=0\n",
    "            if j.haslayer(ICMP):\n",
    "                ICMP_chksum=j[ICMP].chksum\n",
    "                ICMP_id=j[ICMP].id\n",
    "            else:\n",
    "                ICMP_chksum=0\n",
    "                ICMP_id=0\n",
    "            if j.haslayer(TCP):\n",
    "                TCP_sport=j[TCP].sport\n",
    "                TCP_dport=j[TCP].dport\n",
    "                TCP_seq=j[TCP].seq\n",
    "                TCP_ack=j[TCP].ack\n",
    "                TCP_chksum=j[TCP].chksum\n",
    "            else:\n",
    "                TCP_sport=0\n",
    "                TCP_dport=0\n",
    "                TCP_seq=0\n",
    "                TCP_ack=0\n",
    "                TCP_chksum=0\n",
    "            if j.haslayer(UDP):\n",
    "                UDP_sport=j[UDP].sport\n",
    "                UDP_dport=j[UDP].dport\n",
    "                UDP_chksum=j[UDP].chksum\n",
    "            else:\n",
    "                UDP_sport=0\n",
    "                UDP_dport=0\n",
    "                UDP_chksum=0\n",
    "            if j.haslayer(BOOTP):\n",
    "                BOOTP_xid=j[BOOTP].xid\n",
    "            else:\n",
    "                BOOTP_xid=0\n",
    "            if j.haslayer(DNS):\n",
    "\n",
    "                DNS_id=j[DNS].id\n",
    "            else:\n",
    "                DNS_id=0\n",
    "            sport_class=port_class(TCP_sport+UDP_sport)\n",
    "            dport_class=port_class(TCP_dport+UDP_dport)\n",
    "       \n",
    "            sport=TCP_sport+UDP_sport\n",
    "            dport=TCP_dport+UDP_dport#port_class(TCP_dport+UDP_dport)\n",
    "            try:Mac=j.src  \n",
    "            except:Mac= j.addr1     \n",
    "            line=[ts,pck_size,IP_id,ICMP_chksum,ICMP_id,TCP_seq,TCP_ack,TCP_chksum,UDP_chksum,DNS_id,BOOTP_xid,sport,dport,sport_class,dport_class]\n",
    "            line=str(line).replace(\"[\",\"\")\n",
    "            line=str(line).replace(\"]\",\"\")\n",
    "            #line=str(line).replace(\"\\',\",\"-\")\n",
    "            line=str(line).replace(\", \",\",\")\n",
    "            line=str(line).replace(\"\\'\",\"\")\n",
    "            line=str(line).replace(\"None\",\"0\")\n",
    "            if label:\n",
    "                Label=df[label_count]\n",
    "            else:\n",
    "                Label=\"No_Label\"\n",
    "            ths.write(str(line)+f\",{Label}\\n\")  \n",
    "            label_count+=1\n",
    "        ths.close()          \n",
    "\n",
    "        \n",
    "        "
   ]
  }
 ],
 "metadata": {
  "colab": {
   "collapsed_sections": [],
   "name": "(105) feature exracto_colab.ipynb",
   "provenance": []
  },
  "kernelspec": {
   "display_name": "Python 3 (ipykernel)",
   "language": "python",
   "name": "python3"
  },
  "language_info": {
   "codemirror_mode": {
    "name": "ipython",
    "version": 3
   },
   "file_extension": ".py",
   "mimetype": "text/x-python",
   "name": "python",
   "nbconvert_exporter": "python",
   "pygments_lexer": "ipython3",
   "version": "3.10.11"
  }
 },
 "nbformat": 4,
 "nbformat_minor": 4
}
